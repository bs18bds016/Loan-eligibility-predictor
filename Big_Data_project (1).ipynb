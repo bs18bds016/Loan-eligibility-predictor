{
 "cells": [
  {
   "cell_type": "code",
   "execution_count": 1,
   "metadata": {},
   "outputs": [],
   "source": [
    "import pandas as pd\n",
    "import numpy as np\n",
    "import seaborn as sns\n",
    "from sklearn.model_selection import train_test_split\n",
    "from sklearn import svm\n",
    "from sklearn.metrics import accuracy_score\n",
    "import matplotlib.pyplot as plt\n",
    "from sklearn.preprocessing import StandardScaler"
   ]
  },
  {
   "cell_type": "code",
   "execution_count": 2,
   "metadata": {},
   "outputs": [],
   "source": [
    "loan_dataset=pd.read_csv(r\"C:\\Users\\Shivit\\Desktop\\adv_proj\\data.csv\")"
   ]
  },
  {
   "cell_type": "code",
   "execution_count": 3,
   "metadata": {
    "scrolled": true
   },
   "outputs": [
    {
     "data": {
      "text/html": [
       "<div>\n",
       "<style scoped>\n",
       "    .dataframe tbody tr th:only-of-type {\n",
       "        vertical-align: middle;\n",
       "    }\n",
       "\n",
       "    .dataframe tbody tr th {\n",
       "        vertical-align: top;\n",
       "    }\n",
       "\n",
       "    .dataframe thead th {\n",
       "        text-align: right;\n",
       "    }\n",
       "</style>\n",
       "<table border=\"1\" class=\"dataframe\">\n",
       "  <thead>\n",
       "    <tr style=\"text-align: right;\">\n",
       "      <th></th>\n",
       "      <th>Loan_ID</th>\n",
       "      <th>Gender</th>\n",
       "      <th>Married</th>\n",
       "      <th>Dependents</th>\n",
       "      <th>Education</th>\n",
       "      <th>Self_Employed</th>\n",
       "      <th>ApplicantIncome</th>\n",
       "      <th>CoapplicantIncome</th>\n",
       "      <th>LoanAmount</th>\n",
       "      <th>Loan_Amount_Term</th>\n",
       "      <th>Credit_History</th>\n",
       "      <th>Property_Area</th>\n",
       "      <th>Loan_Status</th>\n",
       "    </tr>\n",
       "  </thead>\n",
       "  <tbody>\n",
       "    <tr>\n",
       "      <th>0</th>\n",
       "      <td>LP001002</td>\n",
       "      <td>Male</td>\n",
       "      <td>No</td>\n",
       "      <td>0</td>\n",
       "      <td>Graduate</td>\n",
       "      <td>No</td>\n",
       "      <td>5849</td>\n",
       "      <td>0.0</td>\n",
       "      <td>NaN</td>\n",
       "      <td>360.0</td>\n",
       "      <td>1.0</td>\n",
       "      <td>Urban</td>\n",
       "      <td>Y</td>\n",
       "    </tr>\n",
       "    <tr>\n",
       "      <th>1</th>\n",
       "      <td>LP001003</td>\n",
       "      <td>Male</td>\n",
       "      <td>Yes</td>\n",
       "      <td>1</td>\n",
       "      <td>Graduate</td>\n",
       "      <td>No</td>\n",
       "      <td>4583</td>\n",
       "      <td>1508.0</td>\n",
       "      <td>128.0</td>\n",
       "      <td>360.0</td>\n",
       "      <td>1.0</td>\n",
       "      <td>Rural</td>\n",
       "      <td>N</td>\n",
       "    </tr>\n",
       "    <tr>\n",
       "      <th>2</th>\n",
       "      <td>LP001005</td>\n",
       "      <td>Male</td>\n",
       "      <td>Yes</td>\n",
       "      <td>0</td>\n",
       "      <td>Graduate</td>\n",
       "      <td>Yes</td>\n",
       "      <td>3000</td>\n",
       "      <td>0.0</td>\n",
       "      <td>66.0</td>\n",
       "      <td>360.0</td>\n",
       "      <td>1.0</td>\n",
       "      <td>Urban</td>\n",
       "      <td>Y</td>\n",
       "    </tr>\n",
       "    <tr>\n",
       "      <th>3</th>\n",
       "      <td>LP001006</td>\n",
       "      <td>Male</td>\n",
       "      <td>Yes</td>\n",
       "      <td>0</td>\n",
       "      <td>Not Graduate</td>\n",
       "      <td>No</td>\n",
       "      <td>2583</td>\n",
       "      <td>2358.0</td>\n",
       "      <td>120.0</td>\n",
       "      <td>360.0</td>\n",
       "      <td>1.0</td>\n",
       "      <td>Urban</td>\n",
       "      <td>Y</td>\n",
       "    </tr>\n",
       "    <tr>\n",
       "      <th>4</th>\n",
       "      <td>LP001008</td>\n",
       "      <td>Male</td>\n",
       "      <td>No</td>\n",
       "      <td>0</td>\n",
       "      <td>Graduate</td>\n",
       "      <td>No</td>\n",
       "      <td>6000</td>\n",
       "      <td>0.0</td>\n",
       "      <td>141.0</td>\n",
       "      <td>360.0</td>\n",
       "      <td>1.0</td>\n",
       "      <td>Urban</td>\n",
       "      <td>Y</td>\n",
       "    </tr>\n",
       "    <tr>\n",
       "      <th>...</th>\n",
       "      <td>...</td>\n",
       "      <td>...</td>\n",
       "      <td>...</td>\n",
       "      <td>...</td>\n",
       "      <td>...</td>\n",
       "      <td>...</td>\n",
       "      <td>...</td>\n",
       "      <td>...</td>\n",
       "      <td>...</td>\n",
       "      <td>...</td>\n",
       "      <td>...</td>\n",
       "      <td>...</td>\n",
       "      <td>...</td>\n",
       "    </tr>\n",
       "    <tr>\n",
       "      <th>609</th>\n",
       "      <td>LP002978</td>\n",
       "      <td>Female</td>\n",
       "      <td>No</td>\n",
       "      <td>0</td>\n",
       "      <td>Graduate</td>\n",
       "      <td>No</td>\n",
       "      <td>2900</td>\n",
       "      <td>0.0</td>\n",
       "      <td>71.0</td>\n",
       "      <td>360.0</td>\n",
       "      <td>1.0</td>\n",
       "      <td>Rural</td>\n",
       "      <td>Y</td>\n",
       "    </tr>\n",
       "    <tr>\n",
       "      <th>610</th>\n",
       "      <td>LP002979</td>\n",
       "      <td>Male</td>\n",
       "      <td>Yes</td>\n",
       "      <td>3+</td>\n",
       "      <td>Graduate</td>\n",
       "      <td>No</td>\n",
       "      <td>4106</td>\n",
       "      <td>0.0</td>\n",
       "      <td>40.0</td>\n",
       "      <td>180.0</td>\n",
       "      <td>1.0</td>\n",
       "      <td>Rural</td>\n",
       "      <td>Y</td>\n",
       "    </tr>\n",
       "    <tr>\n",
       "      <th>611</th>\n",
       "      <td>LP002983</td>\n",
       "      <td>Male</td>\n",
       "      <td>Yes</td>\n",
       "      <td>1</td>\n",
       "      <td>Graduate</td>\n",
       "      <td>No</td>\n",
       "      <td>8072</td>\n",
       "      <td>240.0</td>\n",
       "      <td>253.0</td>\n",
       "      <td>360.0</td>\n",
       "      <td>1.0</td>\n",
       "      <td>Urban</td>\n",
       "      <td>Y</td>\n",
       "    </tr>\n",
       "    <tr>\n",
       "      <th>612</th>\n",
       "      <td>LP002984</td>\n",
       "      <td>Male</td>\n",
       "      <td>Yes</td>\n",
       "      <td>2</td>\n",
       "      <td>Graduate</td>\n",
       "      <td>No</td>\n",
       "      <td>7583</td>\n",
       "      <td>0.0</td>\n",
       "      <td>187.0</td>\n",
       "      <td>360.0</td>\n",
       "      <td>1.0</td>\n",
       "      <td>Urban</td>\n",
       "      <td>Y</td>\n",
       "    </tr>\n",
       "    <tr>\n",
       "      <th>613</th>\n",
       "      <td>LP002990</td>\n",
       "      <td>Female</td>\n",
       "      <td>No</td>\n",
       "      <td>0</td>\n",
       "      <td>Graduate</td>\n",
       "      <td>Yes</td>\n",
       "      <td>4583</td>\n",
       "      <td>0.0</td>\n",
       "      <td>133.0</td>\n",
       "      <td>360.0</td>\n",
       "      <td>0.0</td>\n",
       "      <td>Semiurban</td>\n",
       "      <td>N</td>\n",
       "    </tr>\n",
       "  </tbody>\n",
       "</table>\n",
       "<p>614 rows × 13 columns</p>\n",
       "</div>"
      ],
      "text/plain": [
       "      Loan_ID  Gender Married Dependents     Education Self_Employed  \\\n",
       "0    LP001002    Male      No          0      Graduate            No   \n",
       "1    LP001003    Male     Yes          1      Graduate            No   \n",
       "2    LP001005    Male     Yes          0      Graduate           Yes   \n",
       "3    LP001006    Male     Yes          0  Not Graduate            No   \n",
       "4    LP001008    Male      No          0      Graduate            No   \n",
       "..        ...     ...     ...        ...           ...           ...   \n",
       "609  LP002978  Female      No          0      Graduate            No   \n",
       "610  LP002979    Male     Yes         3+      Graduate            No   \n",
       "611  LP002983    Male     Yes          1      Graduate            No   \n",
       "612  LP002984    Male     Yes          2      Graduate            No   \n",
       "613  LP002990  Female      No          0      Graduate           Yes   \n",
       "\n",
       "     ApplicantIncome  CoapplicantIncome  LoanAmount  Loan_Amount_Term  \\\n",
       "0               5849                0.0         NaN             360.0   \n",
       "1               4583             1508.0       128.0             360.0   \n",
       "2               3000                0.0        66.0             360.0   \n",
       "3               2583             2358.0       120.0             360.0   \n",
       "4               6000                0.0       141.0             360.0   \n",
       "..               ...                ...         ...               ...   \n",
       "609             2900                0.0        71.0             360.0   \n",
       "610             4106                0.0        40.0             180.0   \n",
       "611             8072              240.0       253.0             360.0   \n",
       "612             7583                0.0       187.0             360.0   \n",
       "613             4583                0.0       133.0             360.0   \n",
       "\n",
       "     Credit_History Property_Area Loan_Status  \n",
       "0               1.0         Urban           Y  \n",
       "1               1.0         Rural           N  \n",
       "2               1.0         Urban           Y  \n",
       "3               1.0         Urban           Y  \n",
       "4               1.0         Urban           Y  \n",
       "..              ...           ...         ...  \n",
       "609             1.0         Rural           Y  \n",
       "610             1.0         Rural           Y  \n",
       "611             1.0         Urban           Y  \n",
       "612             1.0         Urban           Y  \n",
       "613             0.0     Semiurban           N  \n",
       "\n",
       "[614 rows x 13 columns]"
      ]
     },
     "execution_count": 3,
     "metadata": {},
     "output_type": "execute_result"
    }
   ],
   "source": [
    "loan_dataset"
   ]
  },
  {
   "cell_type": "code",
   "execution_count": 4,
   "metadata": {},
   "outputs": [
    {
     "data": {
      "text/plain": [
       "pandas.core.frame.DataFrame"
      ]
     },
     "execution_count": 4,
     "metadata": {},
     "output_type": "execute_result"
    }
   ],
   "source": [
    "type(loan_dataset)"
   ]
  },
  {
   "cell_type": "code",
   "execution_count": 5,
   "metadata": {},
   "outputs": [
    {
     "data": {
      "text/plain": [
       "(614, 13)"
      ]
     },
     "execution_count": 5,
     "metadata": {},
     "output_type": "execute_result"
    }
   ],
   "source": [
    "# number of rows and columns\n",
    "loan_dataset.shape"
   ]
  },
  {
   "cell_type": "code",
   "execution_count": 6,
   "metadata": {},
   "outputs": [
    {
     "data": {
      "text/html": [
       "<div>\n",
       "<style scoped>\n",
       "    .dataframe tbody tr th:only-of-type {\n",
       "        vertical-align: middle;\n",
       "    }\n",
       "\n",
       "    .dataframe tbody tr th {\n",
       "        vertical-align: top;\n",
       "    }\n",
       "\n",
       "    .dataframe thead th {\n",
       "        text-align: right;\n",
       "    }\n",
       "</style>\n",
       "<table border=\"1\" class=\"dataframe\">\n",
       "  <thead>\n",
       "    <tr style=\"text-align: right;\">\n",
       "      <th></th>\n",
       "      <th>ApplicantIncome</th>\n",
       "      <th>CoapplicantIncome</th>\n",
       "      <th>LoanAmount</th>\n",
       "      <th>Loan_Amount_Term</th>\n",
       "      <th>Credit_History</th>\n",
       "    </tr>\n",
       "  </thead>\n",
       "  <tbody>\n",
       "    <tr>\n",
       "      <th>count</th>\n",
       "      <td>614.000000</td>\n",
       "      <td>614.000000</td>\n",
       "      <td>592.000000</td>\n",
       "      <td>600.00000</td>\n",
       "      <td>564.000000</td>\n",
       "    </tr>\n",
       "    <tr>\n",
       "      <th>mean</th>\n",
       "      <td>5403.459283</td>\n",
       "      <td>1621.245798</td>\n",
       "      <td>146.412162</td>\n",
       "      <td>342.00000</td>\n",
       "      <td>0.842199</td>\n",
       "    </tr>\n",
       "    <tr>\n",
       "      <th>std</th>\n",
       "      <td>6109.041673</td>\n",
       "      <td>2926.248369</td>\n",
       "      <td>85.587325</td>\n",
       "      <td>65.12041</td>\n",
       "      <td>0.364878</td>\n",
       "    </tr>\n",
       "    <tr>\n",
       "      <th>min</th>\n",
       "      <td>150.000000</td>\n",
       "      <td>0.000000</td>\n",
       "      <td>9.000000</td>\n",
       "      <td>12.00000</td>\n",
       "      <td>0.000000</td>\n",
       "    </tr>\n",
       "    <tr>\n",
       "      <th>25%</th>\n",
       "      <td>2877.500000</td>\n",
       "      <td>0.000000</td>\n",
       "      <td>100.000000</td>\n",
       "      <td>360.00000</td>\n",
       "      <td>1.000000</td>\n",
       "    </tr>\n",
       "    <tr>\n",
       "      <th>50%</th>\n",
       "      <td>3812.500000</td>\n",
       "      <td>1188.500000</td>\n",
       "      <td>128.000000</td>\n",
       "      <td>360.00000</td>\n",
       "      <td>1.000000</td>\n",
       "    </tr>\n",
       "    <tr>\n",
       "      <th>75%</th>\n",
       "      <td>5795.000000</td>\n",
       "      <td>2297.250000</td>\n",
       "      <td>168.000000</td>\n",
       "      <td>360.00000</td>\n",
       "      <td>1.000000</td>\n",
       "    </tr>\n",
       "    <tr>\n",
       "      <th>max</th>\n",
       "      <td>81000.000000</td>\n",
       "      <td>41667.000000</td>\n",
       "      <td>700.000000</td>\n",
       "      <td>480.00000</td>\n",
       "      <td>1.000000</td>\n",
       "    </tr>\n",
       "  </tbody>\n",
       "</table>\n",
       "</div>"
      ],
      "text/plain": [
       "       ApplicantIncome  CoapplicantIncome  LoanAmount  Loan_Amount_Term  \\\n",
       "count       614.000000         614.000000  592.000000         600.00000   \n",
       "mean       5403.459283        1621.245798  146.412162         342.00000   \n",
       "std        6109.041673        2926.248369   85.587325          65.12041   \n",
       "min         150.000000           0.000000    9.000000          12.00000   \n",
       "25%        2877.500000           0.000000  100.000000         360.00000   \n",
       "50%        3812.500000        1188.500000  128.000000         360.00000   \n",
       "75%        5795.000000        2297.250000  168.000000         360.00000   \n",
       "max       81000.000000       41667.000000  700.000000         480.00000   \n",
       "\n",
       "       Credit_History  \n",
       "count      564.000000  \n",
       "mean         0.842199  \n",
       "std          0.364878  \n",
       "min          0.000000  \n",
       "25%          1.000000  \n",
       "50%          1.000000  \n",
       "75%          1.000000  \n",
       "max          1.000000  "
      ]
     },
     "execution_count": 6,
     "metadata": {},
     "output_type": "execute_result"
    }
   ],
   "source": [
    "loan_dataset.describe()"
   ]
  },
  {
   "cell_type": "code",
   "execution_count": 7,
   "metadata": {},
   "outputs": [
    {
     "data": {
      "text/plain": [
       "Loan_ID               0\n",
       "Gender               13\n",
       "Married               3\n",
       "Dependents           15\n",
       "Education             0\n",
       "Self_Employed        32\n",
       "ApplicantIncome       0\n",
       "CoapplicantIncome     0\n",
       "LoanAmount           22\n",
       "Loan_Amount_Term     14\n",
       "Credit_History       50\n",
       "Property_Area         0\n",
       "Loan_Status           0\n",
       "dtype: int64"
      ]
     },
     "execution_count": 7,
     "metadata": {},
     "output_type": "execute_result"
    }
   ],
   "source": [
    "# number of missing values in each column\n",
    "loan_dataset.isnull().sum()"
   ]
  },
  {
   "cell_type": "code",
   "execution_count": 8,
   "metadata": {},
   "outputs": [],
   "source": [
    "# dropping the missing values\n",
    "loan_dataset = loan_dataset.dropna()"
   ]
  },
  {
   "cell_type": "code",
   "execution_count": 9,
   "metadata": {},
   "outputs": [
    {
     "data": {
      "text/plain": [
       "Loan_ID              0\n",
       "Gender               0\n",
       "Married              0\n",
       "Dependents           0\n",
       "Education            0\n",
       "Self_Employed        0\n",
       "ApplicantIncome      0\n",
       "CoapplicantIncome    0\n",
       "LoanAmount           0\n",
       "Loan_Amount_Term     0\n",
       "Credit_History       0\n",
       "Property_Area        0\n",
       "Loan_Status          0\n",
       "dtype: int64"
      ]
     },
     "execution_count": 9,
     "metadata": {},
     "output_type": "execute_result"
    }
   ],
   "source": [
    "# number of missing values in each column\n",
    "loan_dataset.isnull().sum()"
   ]
  },
  {
   "cell_type": "code",
   "execution_count": 10,
   "metadata": {},
   "outputs": [
    {
     "name": "stderr",
     "output_type": "stream",
     "text": [
      "D:\\anaconda\\lib\\site-packages\\pandas\\core\\generic.py:6666: SettingWithCopyWarning: \n",
      "A value is trying to be set on a copy of a slice from a DataFrame.\n",
      "Try using .loc[row_indexer,col_indexer] = value instead\n",
      "\n",
      "See the caveats in the documentation: https://pandas.pydata.org/pandas-docs/stable/user_guide/indexing.html#returning-a-view-versus-a-copy\n",
      "  regex=regex,\n"
     ]
    }
   ],
   "source": [
    "# label encoding\n",
    "loan_dataset.replace({\"Loan_Status\":{'N':0,'Y':1}},inplace=True)"
   ]
  },
  {
   "cell_type": "code",
   "execution_count": 11,
   "metadata": {},
   "outputs": [
    {
     "data": {
      "text/html": [
       "<div>\n",
       "<style scoped>\n",
       "    .dataframe tbody tr th:only-of-type {\n",
       "        vertical-align: middle;\n",
       "    }\n",
       "\n",
       "    .dataframe tbody tr th {\n",
       "        vertical-align: top;\n",
       "    }\n",
       "\n",
       "    .dataframe thead th {\n",
       "        text-align: right;\n",
       "    }\n",
       "</style>\n",
       "<table border=\"1\" class=\"dataframe\">\n",
       "  <thead>\n",
       "    <tr style=\"text-align: right;\">\n",
       "      <th></th>\n",
       "      <th>Loan_ID</th>\n",
       "      <th>Gender</th>\n",
       "      <th>Married</th>\n",
       "      <th>Dependents</th>\n",
       "      <th>Education</th>\n",
       "      <th>Self_Employed</th>\n",
       "      <th>ApplicantIncome</th>\n",
       "      <th>CoapplicantIncome</th>\n",
       "      <th>LoanAmount</th>\n",
       "      <th>Loan_Amount_Term</th>\n",
       "      <th>Credit_History</th>\n",
       "      <th>Property_Area</th>\n",
       "      <th>Loan_Status</th>\n",
       "    </tr>\n",
       "  </thead>\n",
       "  <tbody>\n",
       "    <tr>\n",
       "      <th>1</th>\n",
       "      <td>LP001003</td>\n",
       "      <td>Male</td>\n",
       "      <td>Yes</td>\n",
       "      <td>1</td>\n",
       "      <td>Graduate</td>\n",
       "      <td>No</td>\n",
       "      <td>4583</td>\n",
       "      <td>1508.0</td>\n",
       "      <td>128.0</td>\n",
       "      <td>360.0</td>\n",
       "      <td>1.0</td>\n",
       "      <td>Rural</td>\n",
       "      <td>0</td>\n",
       "    </tr>\n",
       "    <tr>\n",
       "      <th>2</th>\n",
       "      <td>LP001005</td>\n",
       "      <td>Male</td>\n",
       "      <td>Yes</td>\n",
       "      <td>0</td>\n",
       "      <td>Graduate</td>\n",
       "      <td>Yes</td>\n",
       "      <td>3000</td>\n",
       "      <td>0.0</td>\n",
       "      <td>66.0</td>\n",
       "      <td>360.0</td>\n",
       "      <td>1.0</td>\n",
       "      <td>Urban</td>\n",
       "      <td>1</td>\n",
       "    </tr>\n",
       "    <tr>\n",
       "      <th>3</th>\n",
       "      <td>LP001006</td>\n",
       "      <td>Male</td>\n",
       "      <td>Yes</td>\n",
       "      <td>0</td>\n",
       "      <td>Not Graduate</td>\n",
       "      <td>No</td>\n",
       "      <td>2583</td>\n",
       "      <td>2358.0</td>\n",
       "      <td>120.0</td>\n",
       "      <td>360.0</td>\n",
       "      <td>1.0</td>\n",
       "      <td>Urban</td>\n",
       "      <td>1</td>\n",
       "    </tr>\n",
       "    <tr>\n",
       "      <th>4</th>\n",
       "      <td>LP001008</td>\n",
       "      <td>Male</td>\n",
       "      <td>No</td>\n",
       "      <td>0</td>\n",
       "      <td>Graduate</td>\n",
       "      <td>No</td>\n",
       "      <td>6000</td>\n",
       "      <td>0.0</td>\n",
       "      <td>141.0</td>\n",
       "      <td>360.0</td>\n",
       "      <td>1.0</td>\n",
       "      <td>Urban</td>\n",
       "      <td>1</td>\n",
       "    </tr>\n",
       "    <tr>\n",
       "      <th>5</th>\n",
       "      <td>LP001011</td>\n",
       "      <td>Male</td>\n",
       "      <td>Yes</td>\n",
       "      <td>2</td>\n",
       "      <td>Graduate</td>\n",
       "      <td>Yes</td>\n",
       "      <td>5417</td>\n",
       "      <td>4196.0</td>\n",
       "      <td>267.0</td>\n",
       "      <td>360.0</td>\n",
       "      <td>1.0</td>\n",
       "      <td>Urban</td>\n",
       "      <td>1</td>\n",
       "    </tr>\n",
       "    <tr>\n",
       "      <th>...</th>\n",
       "      <td>...</td>\n",
       "      <td>...</td>\n",
       "      <td>...</td>\n",
       "      <td>...</td>\n",
       "      <td>...</td>\n",
       "      <td>...</td>\n",
       "      <td>...</td>\n",
       "      <td>...</td>\n",
       "      <td>...</td>\n",
       "      <td>...</td>\n",
       "      <td>...</td>\n",
       "      <td>...</td>\n",
       "      <td>...</td>\n",
       "    </tr>\n",
       "    <tr>\n",
       "      <th>609</th>\n",
       "      <td>LP002978</td>\n",
       "      <td>Female</td>\n",
       "      <td>No</td>\n",
       "      <td>0</td>\n",
       "      <td>Graduate</td>\n",
       "      <td>No</td>\n",
       "      <td>2900</td>\n",
       "      <td>0.0</td>\n",
       "      <td>71.0</td>\n",
       "      <td>360.0</td>\n",
       "      <td>1.0</td>\n",
       "      <td>Rural</td>\n",
       "      <td>1</td>\n",
       "    </tr>\n",
       "    <tr>\n",
       "      <th>610</th>\n",
       "      <td>LP002979</td>\n",
       "      <td>Male</td>\n",
       "      <td>Yes</td>\n",
       "      <td>3+</td>\n",
       "      <td>Graduate</td>\n",
       "      <td>No</td>\n",
       "      <td>4106</td>\n",
       "      <td>0.0</td>\n",
       "      <td>40.0</td>\n",
       "      <td>180.0</td>\n",
       "      <td>1.0</td>\n",
       "      <td>Rural</td>\n",
       "      <td>1</td>\n",
       "    </tr>\n",
       "    <tr>\n",
       "      <th>611</th>\n",
       "      <td>LP002983</td>\n",
       "      <td>Male</td>\n",
       "      <td>Yes</td>\n",
       "      <td>1</td>\n",
       "      <td>Graduate</td>\n",
       "      <td>No</td>\n",
       "      <td>8072</td>\n",
       "      <td>240.0</td>\n",
       "      <td>253.0</td>\n",
       "      <td>360.0</td>\n",
       "      <td>1.0</td>\n",
       "      <td>Urban</td>\n",
       "      <td>1</td>\n",
       "    </tr>\n",
       "    <tr>\n",
       "      <th>612</th>\n",
       "      <td>LP002984</td>\n",
       "      <td>Male</td>\n",
       "      <td>Yes</td>\n",
       "      <td>2</td>\n",
       "      <td>Graduate</td>\n",
       "      <td>No</td>\n",
       "      <td>7583</td>\n",
       "      <td>0.0</td>\n",
       "      <td>187.0</td>\n",
       "      <td>360.0</td>\n",
       "      <td>1.0</td>\n",
       "      <td>Urban</td>\n",
       "      <td>1</td>\n",
       "    </tr>\n",
       "    <tr>\n",
       "      <th>613</th>\n",
       "      <td>LP002990</td>\n",
       "      <td>Female</td>\n",
       "      <td>No</td>\n",
       "      <td>0</td>\n",
       "      <td>Graduate</td>\n",
       "      <td>Yes</td>\n",
       "      <td>4583</td>\n",
       "      <td>0.0</td>\n",
       "      <td>133.0</td>\n",
       "      <td>360.0</td>\n",
       "      <td>0.0</td>\n",
       "      <td>Semiurban</td>\n",
       "      <td>0</td>\n",
       "    </tr>\n",
       "  </tbody>\n",
       "</table>\n",
       "<p>480 rows × 13 columns</p>\n",
       "</div>"
      ],
      "text/plain": [
       "      Loan_ID  Gender Married Dependents     Education Self_Employed  \\\n",
       "1    LP001003    Male     Yes          1      Graduate            No   \n",
       "2    LP001005    Male     Yes          0      Graduate           Yes   \n",
       "3    LP001006    Male     Yes          0  Not Graduate            No   \n",
       "4    LP001008    Male      No          0      Graduate            No   \n",
       "5    LP001011    Male     Yes          2      Graduate           Yes   \n",
       "..        ...     ...     ...        ...           ...           ...   \n",
       "609  LP002978  Female      No          0      Graduate            No   \n",
       "610  LP002979    Male     Yes         3+      Graduate            No   \n",
       "611  LP002983    Male     Yes          1      Graduate            No   \n",
       "612  LP002984    Male     Yes          2      Graduate            No   \n",
       "613  LP002990  Female      No          0      Graduate           Yes   \n",
       "\n",
       "     ApplicantIncome  CoapplicantIncome  LoanAmount  Loan_Amount_Term  \\\n",
       "1               4583             1508.0       128.0             360.0   \n",
       "2               3000                0.0        66.0             360.0   \n",
       "3               2583             2358.0       120.0             360.0   \n",
       "4               6000                0.0       141.0             360.0   \n",
       "5               5417             4196.0       267.0             360.0   \n",
       "..               ...                ...         ...               ...   \n",
       "609             2900                0.0        71.0             360.0   \n",
       "610             4106                0.0        40.0             180.0   \n",
       "611             8072              240.0       253.0             360.0   \n",
       "612             7583                0.0       187.0             360.0   \n",
       "613             4583                0.0       133.0             360.0   \n",
       "\n",
       "     Credit_History Property_Area  Loan_Status  \n",
       "1               1.0         Rural            0  \n",
       "2               1.0         Urban            1  \n",
       "3               1.0         Urban            1  \n",
       "4               1.0         Urban            1  \n",
       "5               1.0         Urban            1  \n",
       "..              ...           ...          ...  \n",
       "609             1.0         Rural            1  \n",
       "610             1.0         Rural            1  \n",
       "611             1.0         Urban            1  \n",
       "612             1.0         Urban            1  \n",
       "613             0.0     Semiurban            0  \n",
       "\n",
       "[480 rows x 13 columns]"
      ]
     },
     "execution_count": 11,
     "metadata": {},
     "output_type": "execute_result"
    }
   ],
   "source": [
    "# printing the first 5 rows of the dataframe\n",
    "loan_dataset"
   ]
  },
  {
   "cell_type": "code",
   "execution_count": 12,
   "metadata": {},
   "outputs": [
    {
     "data": {
      "text/plain": [
       "0     274\n",
       "2      85\n",
       "1      80\n",
       "3+     41\n",
       "Name: Dependents, dtype: int64"
      ]
     },
     "execution_count": 12,
     "metadata": {},
     "output_type": "execute_result"
    }
   ],
   "source": [
    "# Dependent column values\n",
    "loan_dataset['Dependents'].value_counts()"
   ]
  },
  {
   "cell_type": "code",
   "execution_count": 13,
   "metadata": {},
   "outputs": [],
   "source": [
    "# replacing the value of 3+ to 4\n",
    "loan_dataset = loan_dataset.replace(to_replace='3+', value=4)"
   ]
  },
  {
   "cell_type": "code",
   "execution_count": 14,
   "metadata": {},
   "outputs": [
    {
     "data": {
      "text/plain": [
       "0    274\n",
       "2     85\n",
       "1     80\n",
       "4     41\n",
       "Name: Dependents, dtype: int64"
      ]
     },
     "execution_count": 14,
     "metadata": {},
     "output_type": "execute_result"
    }
   ],
   "source": [
    "# dependent values\n",
    "loan_dataset['Dependents'].value_counts()"
   ]
  },
  {
   "cell_type": "code",
   "execution_count": 15,
   "metadata": {},
   "outputs": [
    {
     "data": {
      "text/plain": [
       "<matplotlib.axes._subplots.AxesSubplot at 0x1e6dc393188>"
      ]
     },
     "execution_count": 15,
     "metadata": {},
     "output_type": "execute_result"
    },
    {
     "data": {
      "image/png": "[encoded data removed]",
      "text/plain": [
       "<Figure size 432x288 with 1 Axes>"
      ]
     },
     "metadata": {
      "needs_background": "light"
     },
     "output_type": "display_data"
    }
   ],
   "source": [
    "sns.countplot(x='Self_Employed',hue='Loan_Status',data=loan_dataset)"
   ]
  },
  {
   "cell_type": "code",
   "execution_count": 16,
   "metadata": {},
   "outputs": [
    {
     "data": {
      "text/plain": [
       "<matplotlib.axes._subplots.AxesSubplot at 0x1e6dcc35948>"
      ]
     },
     "execution_count": 16,
     "metadata": {},
     "output_type": "execute_result"
    },
    {
     "data": {
      "image/png": "[encoded data removed]",
      "text/plain": [
       "<Figure size 432x288 with 1 Axes>"
      ]
     },
     "metadata": {
      "needs_background": "light"
     },
     "output_type": "display_data"
    }
   ],
   "source": [
    "# education & Loan Status\n",
    "sns.countplot(x='Education',hue='Loan_Status',data=loan_dataset)"
   ]
  },
  {
   "cell_type": "code",
   "execution_count": 17,
   "metadata": {},
   "outputs": [
    {
     "data": {
      "text/plain": [
       "<matplotlib.axes._subplots.AxesSubplot at 0x1e6dcc96588>"
      ]
     },
     "execution_count": 17,
     "metadata": {},
     "output_type": "execute_result"
    },
    {
     "data": {
      "image/png": "[encoded data removed]",
      "text/plain": [
       "<Figure size 432x288 with 1 Axes>"
      ]
     },
     "metadata": {
      "needs_background": "light"
     },
     "output_type": "display_data"
    }
   ],
   "source": [
    "sns.countplot(x='Dependents',hue='Loan_Status',data=loan_dataset)"
   ]
  },
  {
   "cell_type": "code",
   "execution_count": 18,
   "metadata": {
    "scrolled": true
   },
   "outputs": [
    {
     "data": {
      "text/plain": [
       "<matplotlib.axes._subplots.AxesSubplot at 0x1e6dcd13c88>"
      ]
     },
     "execution_count": 18,
     "metadata": {},
     "output_type": "execute_result"
    },
    {
     "data": {
      "image/png": "[encoded data removed]",
      "text/plain": [
       "<Figure size 432x288 with 1 Axes>"
      ]
     },
     "metadata": {
      "needs_background": "light"
     },
     "output_type": "display_data"
    }
   ],
   "source": [
    "# marital status & Loan Status\n",
    "sns.countplot(x='Married',hue='Loan_Status',data=loan_dataset)"
   ]
  },
  {
   "cell_type": "code",
   "execution_count": null,
   "metadata": {},
   "outputs": [],
   "source": []
  },
  {
   "cell_type": "code",
   "execution_count": null,
   "metadata": {},
   "outputs": [],
   "source": []
  },
  {
   "cell_type": "code",
   "execution_count": 74,
   "metadata": {},
   "outputs": [],
   "source": [
    "# separating the data and label\n",
    "X = loan_dataset.drop(columns=['Loan_ID','Loan_Status'],axis=1)\n",
    "Y = loan_dataset['Loan_Status']"
   ]
  },
  {
   "cell_type": "code",
   "execution_count": 75,
   "metadata": {},
   "outputs": [
    {
     "data": {
      "text/html": [
       "<div>\n",
       "<style scoped>\n",
       "    .dataframe tbody tr th:only-of-type {\n",
       "        vertical-align: middle;\n",
       "    }\n",
       "\n",
       "    .dataframe tbody tr th {\n",
       "        vertical-align: top;\n",
       "    }\n",
       "\n",
       "    .dataframe thead th {\n",
       "        text-align: right;\n",
       "    }\n",
       "</style>\n",
       "<table border=\"1\" class=\"dataframe\">\n",
       "  <thead>\n",
       "    <tr style=\"text-align: right;\">\n",
       "      <th></th>\n",
       "      <th>Loan_ID</th>\n",
       "      <th>Gender</th>\n",
       "      <th>Married</th>\n",
       "      <th>Dependents</th>\n",
       "      <th>Education</th>\n",
       "      <th>Self_Employed</th>\n",
       "      <th>ApplicantIncome</th>\n",
       "      <th>CoapplicantIncome</th>\n",
       "      <th>LoanAmount</th>\n",
       "      <th>Loan_Amount_Term</th>\n",
       "      <th>Credit_History</th>\n",
       "      <th>Property_Area</th>\n",
       "      <th>Loan_Status</th>\n",
       "    </tr>\n",
       "  </thead>\n",
       "  <tbody>\n",
       "    <tr>\n",
       "      <th>0</th>\n",
       "      <td>LP001002</td>\n",
       "      <td>Male</td>\n",
       "      <td>No</td>\n",
       "      <td>0</td>\n",
       "      <td>Graduate</td>\n",
       "      <td>No</td>\n",
       "      <td>5849</td>\n",
       "      <td>0.0</td>\n",
       "      <td>NaN</td>\n",
       "      <td>360.0</td>\n",
       "      <td>1.0</td>\n",
       "      <td>Urban</td>\n",
       "      <td>Y</td>\n",
       "    </tr>\n",
       "    <tr>\n",
       "      <th>1</th>\n",
       "      <td>LP001003</td>\n",
       "      <td>Male</td>\n",
       "      <td>Yes</td>\n",
       "      <td>1</td>\n",
       "      <td>Graduate</td>\n",
       "      <td>No</td>\n",
       "      <td>4583</td>\n",
       "      <td>1508.0</td>\n",
       "      <td>128.0</td>\n",
       "      <td>360.0</td>\n",
       "      <td>1.0</td>\n",
       "      <td>Rural</td>\n",
       "      <td>N</td>\n",
       "    </tr>\n",
       "    <tr>\n",
       "      <th>2</th>\n",
       "      <td>LP001005</td>\n",
       "      <td>Male</td>\n",
       "      <td>Yes</td>\n",
       "      <td>0</td>\n",
       "      <td>Graduate</td>\n",
       "      <td>Yes</td>\n",
       "      <td>3000</td>\n",
       "      <td>0.0</td>\n",
       "      <td>66.0</td>\n",
       "      <td>360.0</td>\n",
       "      <td>1.0</td>\n",
       "      <td>Urban</td>\n",
       "      <td>Y</td>\n",
       "    </tr>\n",
       "    <tr>\n",
       "      <th>3</th>\n",
       "      <td>LP001006</td>\n",
       "      <td>Male</td>\n",
       "      <td>Yes</td>\n",
       "      <td>0</td>\n",
       "      <td>Not Graduate</td>\n",
       "      <td>No</td>\n",
       "      <td>2583</td>\n",
       "      <td>2358.0</td>\n",
       "      <td>120.0</td>\n",
       "      <td>360.0</td>\n",
       "      <td>1.0</td>\n",
       "      <td>Urban</td>\n",
       "      <td>Y</td>\n",
       "    </tr>\n",
       "    <tr>\n",
       "      <th>4</th>\n",
       "      <td>LP001008</td>\n",
       "      <td>Male</td>\n",
       "      <td>No</td>\n",
       "      <td>0</td>\n",
       "      <td>Graduate</td>\n",
       "      <td>No</td>\n",
       "      <td>6000</td>\n",
       "      <td>0.0</td>\n",
       "      <td>141.0</td>\n",
       "      <td>360.0</td>\n",
       "      <td>1.0</td>\n",
       "      <td>Urban</td>\n",
       "      <td>Y</td>\n",
       "    </tr>\n",
       "  </tbody>\n",
       "</table>\n",
       "</div>"
      ],
      "text/plain": [
       "    Loan_ID Gender Married Dependents     Education Self_Employed  \\\n",
       "0  LP001002   Male      No          0      Graduate            No   \n",
       "1  LP001003   Male     Yes          1      Graduate            No   \n",
       "2  LP001005   Male     Yes          0      Graduate           Yes   \n",
       "3  LP001006   Male     Yes          0  Not Graduate            No   \n",
       "4  LP001008   Male      No          0      Graduate            No   \n",
       "\n",
       "   ApplicantIncome  CoapplicantIncome  LoanAmount  Loan_Amount_Term  \\\n",
       "0             5849                0.0         NaN             360.0   \n",
       "1             4583             1508.0       128.0             360.0   \n",
       "2             3000                0.0        66.0             360.0   \n",
       "3             2583             2358.0       120.0             360.0   \n",
       "4             6000                0.0       141.0             360.0   \n",
       "\n",
       "   Credit_History Property_Area Loan_Status  \n",
       "0             1.0         Urban           Y  \n",
       "1             1.0         Rural           N  \n",
       "2             1.0         Urban           Y  \n",
       "3             1.0         Urban           Y  \n",
       "4             1.0         Urban           Y  "
      ]
     },
     "execution_count": 75,
     "metadata": {},
     "output_type": "execute_result"
    }
   ],
   "source": [
    "loan_dataset.head()"
   ]
  },
  {
   "cell_type": "code",
   "execution_count": 77,
   "metadata": {},
   "outputs": [],
   "source": [
    "# convert categorical columns to numerical values\n",
    "loan_dataset.replace({'Married':{'No':0,'Yes':1},'Gender':{'Male':1,'Female':0},'Self_Employed':{'No':0,'Yes':1},\n",
    "                      'Property_Area':{'Rural':0,'Semiurban':1,'Urban':2},'Education':{'Graduate':1,'Not Graduate':0}},inplace=True)"
   ]
  },
  {
   "cell_type": "code",
   "execution_count": 78,
   "metadata": {},
   "outputs": [
    {
     "data": {
      "text/html": [
       "<div>\n",
       "<style scoped>\n",
       "    .dataframe tbody tr th:only-of-type {\n",
       "        vertical-align: middle;\n",
       "    }\n",
       "\n",
       "    .dataframe tbody tr th {\n",
       "        vertical-align: top;\n",
       "    }\n",
       "\n",
       "    .dataframe thead th {\n",
       "        text-align: right;\n",
       "    }\n",
       "</style>\n",
       "<table border=\"1\" class=\"dataframe\">\n",
       "  <thead>\n",
       "    <tr style=\"text-align: right;\">\n",
       "      <th></th>\n",
       "      <th>Loan_ID</th>\n",
       "      <th>Gender</th>\n",
       "      <th>Married</th>\n",
       "      <th>Dependents</th>\n",
       "      <th>Education</th>\n",
       "      <th>Self_Employed</th>\n",
       "      <th>ApplicantIncome</th>\n",
       "      <th>CoapplicantIncome</th>\n",
       "      <th>LoanAmount</th>\n",
       "      <th>Loan_Amount_Term</th>\n",
       "      <th>Credit_History</th>\n",
       "      <th>Property_Area</th>\n",
       "      <th>Loan_Status</th>\n",
       "    </tr>\n",
       "  </thead>\n",
       "  <tbody>\n",
       "    <tr>\n",
       "      <th>0</th>\n",
       "      <td>LP001002</td>\n",
       "      <td>1.0</td>\n",
       "      <td>0.0</td>\n",
       "      <td>0</td>\n",
       "      <td>1</td>\n",
       "      <td>0.0</td>\n",
       "      <td>5849</td>\n",
       "      <td>0.0</td>\n",
       "      <td>NaN</td>\n",
       "      <td>360.0</td>\n",
       "      <td>1.0</td>\n",
       "      <td>2</td>\n",
       "      <td>Y</td>\n",
       "    </tr>\n",
       "    <tr>\n",
       "      <th>1</th>\n",
       "      <td>LP001003</td>\n",
       "      <td>1.0</td>\n",
       "      <td>1.0</td>\n",
       "      <td>1</td>\n",
       "      <td>1</td>\n",
       "      <td>0.0</td>\n",
       "      <td>4583</td>\n",
       "      <td>1508.0</td>\n",
       "      <td>128.0</td>\n",
       "      <td>360.0</td>\n",
       "      <td>1.0</td>\n",
       "      <td>0</td>\n",
       "      <td>N</td>\n",
       "    </tr>\n",
       "    <tr>\n",
       "      <th>2</th>\n",
       "      <td>LP001005</td>\n",
       "      <td>1.0</td>\n",
       "      <td>1.0</td>\n",
       "      <td>0</td>\n",
       "      <td>1</td>\n",
       "      <td>1.0</td>\n",
       "      <td>3000</td>\n",
       "      <td>0.0</td>\n",
       "      <td>66.0</td>\n",
       "      <td>360.0</td>\n",
       "      <td>1.0</td>\n",
       "      <td>2</td>\n",
       "      <td>Y</td>\n",
       "    </tr>\n",
       "    <tr>\n",
       "      <th>3</th>\n",
       "      <td>LP001006</td>\n",
       "      <td>1.0</td>\n",
       "      <td>1.0</td>\n",
       "      <td>0</td>\n",
       "      <td>0</td>\n",
       "      <td>0.0</td>\n",
       "      <td>2583</td>\n",
       "      <td>2358.0</td>\n",
       "      <td>120.0</td>\n",
       "      <td>360.0</td>\n",
       "      <td>1.0</td>\n",
       "      <td>2</td>\n",
       "      <td>Y</td>\n",
       "    </tr>\n",
       "    <tr>\n",
       "      <th>4</th>\n",
       "      <td>LP001008</td>\n",
       "      <td>1.0</td>\n",
       "      <td>0.0</td>\n",
       "      <td>0</td>\n",
       "      <td>1</td>\n",
       "      <td>0.0</td>\n",
       "      <td>6000</td>\n",
       "      <td>0.0</td>\n",
       "      <td>141.0</td>\n",
       "      <td>360.0</td>\n",
       "      <td>1.0</td>\n",
       "      <td>2</td>\n",
       "      <td>Y</td>\n",
       "    </tr>\n",
       "  </tbody>\n",
       "</table>\n",
       "</div>"
      ],
      "text/plain": [
       "    Loan_ID  Gender  Married Dependents  Education  Self_Employed  \\\n",
       "0  LP001002     1.0      0.0          0          1            0.0   \n",
       "1  LP001003     1.0      1.0          1          1            0.0   \n",
       "2  LP001005     1.0      1.0          0          1            1.0   \n",
       "3  LP001006     1.0      1.0          0          0            0.0   \n",
       "4  LP001008     1.0      0.0          0          1            0.0   \n",
       "\n",
       "   ApplicantIncome  CoapplicantIncome  LoanAmount  Loan_Amount_Term  \\\n",
       "0             5849                0.0         NaN             360.0   \n",
       "1             4583             1508.0       128.0             360.0   \n",
       "2             3000                0.0        66.0             360.0   \n",
       "3             2583             2358.0       120.0             360.0   \n",
       "4             6000                0.0       141.0             360.0   \n",
       "\n",
       "   Credit_History  Property_Area Loan_Status  \n",
       "0             1.0              2           Y  \n",
       "1             1.0              0           N  \n",
       "2             1.0              2           Y  \n",
       "3             1.0              2           Y  \n",
       "4             1.0              2           Y  "
      ]
     },
     "execution_count": 78,
     "metadata": {},
     "output_type": "execute_result"
    }
   ],
   "source": [
    "loan_dataset.head()"
   ]
  },
  {
   "cell_type": "code",
   "execution_count": null,
   "metadata": {},
   "outputs": [],
   "source": [
    "# separating the data and label\n",
    "X = loan_dataset.drop(columns=['Loan_ID','Loan_Status'],axis=1)\n",
    "Y = loan_dataset['Loan_Status']"
   ]
  },
  {
   "cell_type": "code",
   "execution_count": 32,
   "metadata": {
    "scrolled": true
   },
   "outputs": [
    {
     "name": "stdout",
     "output_type": "stream",
     "text": [
      "     Gender  Married Dependents  Education  Self_Employed  ApplicantIncome  \\\n",
      "1         1        1          1          1              0             4583   \n",
      "2         1        1          0          1              1             3000   \n",
      "3         1        1          0          0              0             2583   \n",
      "4         1        0          0          1              0             6000   \n",
      "5         1        1          2          1              1             5417   \n",
      "..      ...      ...        ...        ...            ...              ...   \n",
      "609       0        0          0          1              0             2900   \n",
      "610       1        1          4          1              0             4106   \n",
      "611       1        1          1          1              0             8072   \n",
      "612       1        1          2          1              0             7583   \n",
      "613       0        0          0          1              1             4583   \n",
      "\n",
      "     CoapplicantIncome  LoanAmount  Loan_Amount_Term  Credit_History  \\\n",
      "1               1508.0       128.0             360.0             1.0   \n",
      "2                  0.0        66.0             360.0             1.0   \n",
      "3               2358.0       120.0             360.0             1.0   \n",
      "4                  0.0       141.0             360.0             1.0   \n",
      "5               4196.0       267.0             360.0             1.0   \n",
      "..                 ...         ...               ...             ...   \n",
      "609                0.0        71.0             360.0             1.0   \n",
      "610                0.0        40.0             180.0             1.0   \n",
      "611              240.0       253.0             360.0             1.0   \n",
      "612                0.0       187.0             360.0             1.0   \n",
      "613                0.0       133.0             360.0             0.0   \n",
      "\n",
      "     Property_Area  \n",
      "1                0  \n",
      "2                2  \n",
      "3                2  \n",
      "4                2  \n",
      "5                2  \n",
      "..             ...  \n",
      "609              0  \n",
      "610              0  \n",
      "611              2  \n",
      "612              2  \n",
      "613              1  \n",
      "\n",
      "[480 rows x 11 columns]\n",
      "1      0\n",
      "2      1\n",
      "3      1\n",
      "4      1\n",
      "5      1\n",
      "      ..\n",
      "609    1\n",
      "610    1\n",
      "611    1\n",
      "612    1\n",
      "613    0\n",
      "Name: Loan_Status, Length: 480, dtype: int64\n"
     ]
    }
   ],
   "source": [
    "print(X)\n",
    "print(Y)"
   ]
  },
  {
   "cell_type": "code",
   "execution_count": 33,
   "metadata": {},
   "outputs": [],
   "source": [
    "scaler = StandardScaler()\n",
    "\n"
   ]
  },
  {
   "cell_type": "code",
   "execution_count": 34,
   "metadata": {},
   "outputs": [
    {
     "data": {
      "text/plain": [
       "StandardScaler(copy=True, with_mean=True, with_std=True)"
      ]
     },
     "execution_count": 34,
     "metadata": {},
     "output_type": "execute_result"
    }
   ],
   "source": [
    "scaler.fit(X)"
   ]
  },
  {
   "cell_type": "code",
   "execution_count": 35,
   "metadata": {},
   "outputs": [],
   "source": [
    "standardized_data = scaler.transform(X)"
   ]
  },
  {
   "cell_type": "code",
   "execution_count": 36,
   "metadata": {},
   "outputs": [],
   "source": [
    "X = standardized_data\n",
    "Y = loan_dataset['Loan_Status']"
   ]
  },
  {
   "cell_type": "code",
   "execution_count": 37,
   "metadata": {},
   "outputs": [],
   "source": [
    "#Train Test Split"
   ]
  },
  {
   "cell_type": "code",
   "execution_count": 38,
   "metadata": {},
   "outputs": [],
   "source": [
    "X_train, X_test,Y_train,Y_test = train_test_split(X,Y,test_size=0.1,stratify=Y,random_state=2)"
   ]
  },
  {
   "cell_type": "code",
   "execution_count": 39,
   "metadata": {},
   "outputs": [
    {
     "name": "stdout",
     "output_type": "stream",
     "text": [
      "(480, 11) (432, 11) (48, 11)\n"
     ]
    }
   ],
   "source": [
    "print(X.shape, X_train.shape, X_test.shape)"
   ]
  },
  {
   "cell_type": "code",
   "execution_count": 40,
   "metadata": {},
   "outputs": [],
   "source": [
    "classifier = svm.SVC(kernel='linear')"
   ]
  },
  {
   "cell_type": "code",
   "execution_count": 41,
   "metadata": {},
   "outputs": [
    {
     "data": {
      "text/plain": [
       "SVC(C=1.0, break_ties=False, cache_size=200, class_weight=None, coef0=0.0,\n",
       "    decision_function_shape='ovr', degree=3, gamma='scale', kernel='linear',\n",
       "    max_iter=-1, probability=False, random_state=None, shrinking=True,\n",
       "    tol=0.001, verbose=False)"
      ]
     },
     "execution_count": 41,
     "metadata": {},
     "output_type": "execute_result"
    }
   ],
   "source": [
    "#training the support Vector Macine model\n",
    "classifier.fit(X_train,Y_train)"
   ]
  },
  {
   "cell_type": "code",
   "execution_count": 42,
   "metadata": {},
   "outputs": [],
   "source": [
    "# accuracy score on training data\n",
    "X_train_prediction = classifier.predict(X_train)\n",
    "training_data_accuray = accuracy_score(X_train_prediction,Y_train)"
   ]
  },
  {
   "cell_type": "code",
   "execution_count": 43,
   "metadata": {},
   "outputs": [
    {
     "name": "stdout",
     "output_type": "stream",
     "text": [
      "Accuracy on training data :  0.8055555555555556\n"
     ]
    }
   ],
   "source": [
    "print('Accuracy on training data : ', training_data_accuray)"
   ]
  },
  {
   "cell_type": "code",
   "execution_count": 44,
   "metadata": {},
   "outputs": [],
   "source": [
    "# accuracy score on training data\n",
    "X_test_prediction = classifier.predict(X_test)\n",
    "test_data_accuray = accuracy_score(X_test_prediction,Y_test)"
   ]
  },
  {
   "cell_type": "code",
   "execution_count": 45,
   "metadata": {},
   "outputs": [
    {
     "name": "stdout",
     "output_type": "stream",
     "text": [
      "Accuracy on test data :  0.8333333333333334\n"
     ]
    }
   ],
   "source": [
    "print('Accuracy on test data : ', test_data_accuray)"
   ]
  },
  {
   "cell_type": "code",
   "execution_count": 110,
   "metadata": {},
   "outputs": [
    {
     "name": "stdout",
     "output_type": "stream",
     "text": [
      "[1]\n"
     ]
    }
   ],
   "source": [
    "input_data = (1,1,0,1,1,6000,6000,1000,360,1,0)\n",
    "\n",
    "\n",
    "input_data_as_numpy_array = np.asarray(input_data)\n",
    "input_data_reshaped = input_data_as_numpy_array.reshape(1,-1)\n",
    "\n",
    "std_data = scaler.transform(input_data_reshaped)\n",
    "prediction = classifier.predict(std_data)\n",
    "print(prediction)\n"
   ]
  },
  {
   "cell_type": "code",
   "execution_count": 48,
   "metadata": {
    "scrolled": true
   },
   "outputs": [
    {
     "data": {
      "text/plain": [
       "array([[-2.14041943, -1.35655324, -0.70475462, ...,  0.27554157,\n",
       "        -2.42015348, -0.02954695],\n",
       "       [ 0.46719815,  0.73716237,  0.11235219, ...,  0.27554157,\n",
       "         0.41319694, -0.02954695],\n",
       "       [ 0.46719815,  0.73716237,  0.92945899, ..., -2.48754937,\n",
       "         0.41319694,  1.25977445],\n",
       "       ...,\n",
       "       [ 0.46719815, -1.35655324, -0.70475462, ...,  0.27554157,\n",
       "         0.41319694,  1.25977445],\n",
       "       [-2.14041943, -1.35655324, -0.70475462, ..., -0.64548874,\n",
       "         0.41319694, -0.02954695],\n",
       "       [ 0.46719815,  0.73716237,  2.56367259, ...,  0.27554157,\n",
       "         0.41319694, -1.31886834]])"
      ]
     },
     "execution_count": 48,
     "metadata": {},
     "output_type": "execute_result"
    }
   ],
   "source": [
    "X_train"
   ]
  },
  {
   "cell_type": "code",
   "execution_count": null,
   "metadata": {},
   "outputs": [],
   "source": []
  },
  {
   "cell_type": "code",
   "execution_count": null,
   "metadata": {},
   "outputs": [],
   "source": []
  },
  {
   "cell_type": "code",
   "execution_count": 79,
   "metadata": {},
   "outputs": [],
   "source": [
    "from sklearn.decomposition import PCA\n",
    "pca = PCA(n_components=2).fit(X_train)\n",
    "pca_2d = pca.transform(X_train)"
   ]
  },
  {
   "cell_type": "code",
   "execution_count": 80,
   "metadata": {
    "scrolled": true
   },
   "outputs": [
    {
     "data": {
      "text/plain": [
       "array([[-1.18130684e+00,  1.35239460e+00],\n",
       "       [ 3.19800991e-01, -2.02840498e-01],\n",
       "       [ 1.47110723e+00, -1.06750763e+00],\n",
       "       [-1.13911601e-01, -3.90366137e-01],\n",
       "       [-9.54397075e-02, -5.59747452e-01],\n",
       "       [-2.42469540e+00,  1.54854878e+00],\n",
       "       [-2.50690986e+00,  1.03429560e+00],\n",
       "       [-1.52288271e+00,  2.18624549e+00],\n",
       "       [-1.10679185e+00, -1.19821792e+00],\n",
       "       [-2.79948609e-01, -4.07547688e-01],\n",
       "       [-1.12712788e-01, -2.90534322e-01],\n",
       "       [-7.29032802e-02,  1.06012539e-01],\n",
       "       [-1.42720227e+00,  2.57980041e+00],\n",
       "       [ 9.75358362e-01,  5.24337798e-01],\n",
       "       [-2.53817985e-01, -4.67993989e-01],\n",
       "       [-1.26422362e-01, -3.83129138e-01],\n",
       "       [ 3.68010533e-01, -1.01859417e+00],\n",
       "       [ 2.19841986e-01, -1.23058450e+00],\n",
       "       [-2.64314993e+00,  1.11674889e+00],\n",
       "       [ 8.78280587e-02,  3.00373533e+00],\n",
       "       [-9.76992228e-01,  5.70695218e-01],\n",
       "       [ 8.94690198e-02, -1.58623957e-01],\n",
       "       [ 1.67949851e+00,  2.17866502e+00],\n",
       "       [ 3.99891208e+00,  1.99507329e+00],\n",
       "       [ 1.70416280e+00, -3.56434592e-01],\n",
       "       [ 5.17108070e-01, -3.36817745e+00],\n",
       "       [ 1.40759970e+00,  7.63660929e-01],\n",
       "       [ 4.54407283e-03, -1.08853958e+00],\n",
       "       [-2.11964791e-01, -4.55136168e-01],\n",
       "       [-1.01648569e-01, -1.35952563e+00],\n",
       "       [ 1.52930727e+00,  6.71099070e-01],\n",
       "       [-8.06249978e-01,  2.91707371e+00],\n",
       "       [ 1.34889690e-02, -2.05387768e+00],\n",
       "       [-1.98319861e+00,  2.06649555e+00],\n",
       "       [ 9.29157844e-01, -5.81085329e-01],\n",
       "       [-4.52769257e-01, -2.80505266e+00],\n",
       "       [ 3.22660592e-01, -3.74083011e-01],\n",
       "       [-4.14317419e-01, -1.02967177e+00],\n",
       "       [-1.90339389e+00,  1.72618021e+00],\n",
       "       [-6.94307232e-01, -8.42272984e-01],\n",
       "       [-5.25522422e-01, -1.18308085e+00],\n",
       "       [ 6.41000088e-01, -2.28559087e+00],\n",
       "       [ 3.71819574e+00,  1.69801179e+00],\n",
       "       [-2.25473456e-01, -5.13252118e-01],\n",
       "       [ 4.48135816e-01,  1.14597647e-01],\n",
       "       [-2.46701313e-03, -2.03069135e-01],\n",
       "       [-8.69498674e-02, -2.27820426e-01],\n",
       "       [ 1.81069558e-01, -9.64780161e-01],\n",
       "       [ 1.21946265e-01, -4.79720841e-01],\n",
       "       [ 2.36673230e+00,  4.44817516e-01],\n",
       "       [-1.31953206e+00,  4.11260174e-01],\n",
       "       [-9.80386147e-01, -1.11119663e+00],\n",
       "       [-7.30244350e-01,  6.46452351e-01],\n",
       "       [-5.76224554e-01, -8.63200324e-01],\n",
       "       [-1.31316724e+00,  8.55139498e-01],\n",
       "       [ 3.75227202e-01, -1.15241815e+00],\n",
       "       [-1.95590085e+00,  1.66976643e+00],\n",
       "       [-2.46028118e-01, -5.11269870e-01],\n",
       "       [-1.65971117e+00, -1.53140785e-01],\n",
       "       [ 6.58876621e-01,  3.17320426e-01],\n",
       "       [ 5.61372830e-01, -1.94297570e+00],\n",
       "       [-1.15443304e-01, -4.94507290e-01],\n",
       "       [-5.25641555e-02, -4.16855537e-01],\n",
       "       [-2.68183066e-01, -2.61238813e-01],\n",
       "       [-3.21020108e-01, -4.87189246e-01],\n",
       "       [-1.47683612e+00,  1.73907933e-01],\n",
       "       [-1.08312692e+00,  5.58537622e-01],\n",
       "       [ 6.22049955e-01, -6.54322695e-01],\n",
       "       [-1.61489742e+00,  1.92222939e+00],\n",
       "       [-7.74462127e-01,  7.98439121e-01],\n",
       "       [ 1.07949623e+00, -1.44756055e+00],\n",
       "       [ 3.65639846e+00,  7.13659169e-01],\n",
       "       [-2.85669798e+00,  9.72946286e-01],\n",
       "       [ 4.88516627e-01, -2.84964472e+00],\n",
       "       [-2.38032491e+00,  1.45494316e+00],\n",
       "       [-1.22418243e-02, -6.90484691e-01],\n",
       "       [-1.27625541e-01, -1.34748137e+00],\n",
       "       [-5.52144046e-02, -1.36088614e+00],\n",
       "       [-9.75375205e-01,  8.04219016e-01],\n",
       "       [-1.73440610e-02, -1.19727237e+00],\n",
       "       [-1.77396434e+00,  1.37621872e+00],\n",
       "       [-2.34216580e+00, -8.37234664e-01],\n",
       "       [-1.71217704e+00,  1.09902416e-02],\n",
       "       [ 5.07132591e-01, -1.10912792e+00],\n",
       "       [ 1.68388726e+00, -6.11952078e-01],\n",
       "       [ 4.78448229e-01,  3.63909887e-01],\n",
       "       [-1.36730379e+00, -6.20618140e-01],\n",
       "       [-7.52089859e-01,  3.51860549e-02],\n",
       "       [-1.64667620e+00,  2.13397146e-01],\n",
       "       [-1.52704507e+00,  2.87253048e-01],\n",
       "       [ 3.47539962e+00,  2.11892749e+00],\n",
       "       [-3.68560704e-01, -2.87332717e+00],\n",
       "       [-1.48010012e+00, -3.21635499e-01],\n",
       "       [-4.85555157e-01, -3.27802594e-01],\n",
       "       [-9.67920117e-01,  2.47265950e+00],\n",
       "       [ 3.31655183e-01, -8.82418680e-01],\n",
       "       [ 8.27905946e-02, -5.78889048e-01],\n",
       "       [-1.55345183e+00,  1.19136572e-01],\n",
       "       [-4.87038762e-01,  2.72504951e+00],\n",
       "       [ 1.00611273e-01,  8.21549058e-02],\n",
       "       [-2.88400433e+00,  6.49140962e-01],\n",
       "       [ 4.47741799e-01, -9.37980776e-01],\n",
       "       [-1.60757222e+00,  6.95944523e-02],\n",
       "       [-1.54915723e+00,  1.64584739e+00],\n",
       "       [ 1.17844066e+00, -1.18277700e+00],\n",
       "       [ 8.99624028e-01, -6.70069258e-01],\n",
       "       [-1.73847604e-01, -7.42161516e-01],\n",
       "       [-1.57177778e-02,  7.05192320e-03],\n",
       "       [ 3.00762570e-03, -2.05338995e-01],\n",
       "       [ 1.29076737e+00, -1.38081675e+00],\n",
       "       [-1.18186793e+00,  1.05947669e-01],\n",
       "       [-1.78253752e+00, -1.36702939e-01],\n",
       "       [-4.24105302e-01, -1.28915369e+00],\n",
       "       [ 7.20536644e-01, -8.27251065e-01],\n",
       "       [-5.90982728e-01,  5.92713132e-01],\n",
       "       [-1.72346324e-01,  1.73660445e+00],\n",
       "       [ 2.55107209e-01, -1.00121906e+00],\n",
       "       [ 1.22923372e+00, -2.60866140e-01],\n",
       "       [-4.97135940e-01,  2.52465157e+00],\n",
       "       [-5.15528952e-01, -1.34983784e+00],\n",
       "       [-1.41065837e-01, -6.77135782e-01],\n",
       "       [ 1.02099548e+00,  3.32288160e-01],\n",
       "       [ 6.94054497e-01, -7.53438254e-01],\n",
       "       [-7.23301608e-01, -1.43739519e+00],\n",
       "       [-3.05662556e-01,  1.29921690e+00],\n",
       "       [ 1.56819325e+00, -5.88546686e-02],\n",
       "       [-1.10163292e+00,  4.78728169e-01],\n",
       "       [-6.04619112e-01,  2.46687553e+00],\n",
       "       [-1.08721875e+00,  4.34683942e-01],\n",
       "       [-3.50521578e-01, -3.92205098e-01],\n",
       "       [ 9.34699536e-01,  7.72824873e-03],\n",
       "       [ 1.81534030e+00,  4.18449612e-01],\n",
       "       [-1.36272500e+00, -1.03450934e-02],\n",
       "       [ 1.56461029e+00, -1.74089368e-01],\n",
       "       [-6.93319895e-01, -8.31507648e-01],\n",
       "       [ 1.50615004e-01, -1.83421195e+00],\n",
       "       [ 4.30950810e-01, -3.52636351e-01],\n",
       "       [ 1.80941711e+00, -1.58792766e+00],\n",
       "       [ 1.01576283e+00, -5.57842332e-01],\n",
       "       [-4.27664377e-01,  7.83894556e-01],\n",
       "       [ 8.95924041e-01, -3.63888300e-01],\n",
       "       [-7.84986752e-01,  1.65932188e-01],\n",
       "       [ 5.12470022e-02, -1.31635375e+00],\n",
       "       [ 1.24540161e+00, -4.22283784e-01],\n",
       "       [ 8.89443927e-01,  4.50938908e-01],\n",
       "       [ 3.04645074e-01, -2.45393277e+00],\n",
       "       [ 3.45830265e+00,  2.59811945e+00],\n",
       "       [-8.34408843e-01,  4.32891697e-01],\n",
       "       [-9.55174782e-01,  5.15454800e-01],\n",
       "       [ 1.78960959e-01,  7.61303121e-01],\n",
       "       [-1.09741589e+00,  7.27355042e-01],\n",
       "       [ 2.14513173e+00, -1.21355751e-02],\n",
       "       [ 1.76122946e-01, -1.11407338e+00],\n",
       "       [-1.93670518e+00,  1.58909384e+00],\n",
       "       [ 8.24934777e-01, -3.82390177e-01],\n",
       "       [ 1.35708738e+00, -2.11313786e+00],\n",
       "       [ 1.48261191e+00, -3.94552652e-01],\n",
       "       [ 7.97337067e-01, -5.48235092e-01],\n",
       "       [-1.86851105e+00,  1.33164964e+00],\n",
       "       [-9.55269266e-02, -1.11262499e+00],\n",
       "       [-3.88824998e-02, -3.97895094e-01],\n",
       "       [-1.62467772e+00,  2.07209788e+00],\n",
       "       [-2.10183602e-01, -3.06482614e-01],\n",
       "       [-3.95613443e-01,  1.26375916e+00],\n",
       "       [-3.29097957e-01, -5.63862973e-03],\n",
       "       [-2.75217097e+00,  7.29556327e-01],\n",
       "       [ 1.33725864e+00, -8.05897695e-01],\n",
       "       [-2.02316980e-01, -1.00620413e+00],\n",
       "       [ 4.59071846e-01, -1.03088373e+00],\n",
       "       [ 2.96783187e+00,  1.76206650e-01],\n",
       "       [ 1.49080439e+00, -1.61117960e-01],\n",
       "       [ 2.71504264e-02, -1.99691773e+00],\n",
       "       [-1.05748674e+00,  5.91385855e-01],\n",
       "       [ 1.41462937e+00, -1.23936765e+00],\n",
       "       [ 6.60846181e-01, -1.75468976e+00],\n",
       "       [-1.46994320e+00, -5.11121684e-02],\n",
       "       [ 1.83747950e+00, -1.25200359e-01],\n",
       "       [-4.79171584e-01,  7.93138822e-01],\n",
       "       [-3.10800271e-01, -5.65734195e-01],\n",
       "       [-2.68442431e+00,  9.33933108e-01],\n",
       "       [-4.66762177e-01,  3.06354688e+00],\n",
       "       [-5.97812018e-03, -1.53221893e+00],\n",
       "       [ 1.23812126e-02, -2.18069369e-01],\n",
       "       [-6.68782295e-01, -8.45457388e-01],\n",
       "       [-1.95358379e+00,  1.69044419e+00],\n",
       "       [-9.44677034e-01,  6.49030245e-01],\n",
       "       [ 1.02622321e-01,  1.76240576e-02],\n",
       "       [-3.05181099e-01, -1.15877549e+00],\n",
       "       [-2.21355361e+00,  1.51835411e+00],\n",
       "       [-8.45755332e-01,  7.03196316e-01],\n",
       "       [ 7.56512973e+00,  2.34990166e+00],\n",
       "       [-2.30424054e+00,  1.31042953e+00],\n",
       "       [ 4.47226850e+00,  2.54048526e+00],\n",
       "       [ 8.74796766e-01, -7.26225950e-01],\n",
       "       [-3.25911229e-01,  3.09137313e-01],\n",
       "       [ 6.92489064e-02, -1.58755555e-01],\n",
       "       [-1.83416068e-01,  1.09820251e+00],\n",
       "       [ 1.74896149e+00, -1.59976395e-01],\n",
       "       [ 1.20668027e+00, -1.51211086e-02],\n",
       "       [ 1.45726716e+00, -5.85930813e-01],\n",
       "       [-1.16621565e+00,  9.45120036e-01],\n",
       "       [-4.40121765e-01,  1.47705208e-01],\n",
       "       [ 2.57198140e+00, -1.69669481e-01],\n",
       "       [-2.92168622e-01, -4.20623686e-01],\n",
       "       [ 1.42679598e+00, -4.97235445e-01],\n",
       "       [-5.43582970e-01, -8.37299038e-01],\n",
       "       [-3.92911188e-01, -6.85734381e-01],\n",
       "       [-5.55515454e-01, -1.83679531e+00],\n",
       "       [ 7.62095370e-01,  1.38700476e-01],\n",
       "       [ 3.54904754e-01, -1.69561351e-02],\n",
       "       [ 2.85040609e-01,  1.84828285e+00],\n",
       "       [-1.09656818e-01, -4.63121970e-01],\n",
       "       [ 6.04110982e-01, -6.70372859e-01],\n",
       "       [ 2.28244981e+00,  9.14792623e-01],\n",
       "       [ 1.04053258e+00, -1.35405217e+00],\n",
       "       [-1.81971475e+00,  1.13434320e+00],\n",
       "       [-1.67404232e+00, -2.50577142e-01],\n",
       "       [-7.44747095e-01,  2.53735999e+00],\n",
       "       [ 8.98466670e-01,  1.91738252e+00],\n",
       "       [ 1.20282024e+00, -6.48831026e-01],\n",
       "       [ 1.56860894e-01, -1.09472136e+00],\n",
       "       [-1.33231917e-01, -2.56839243e-01],\n",
       "       [-9.59987415e-01, -1.51626734e+00],\n",
       "       [ 9.94403238e-03, -7.88629645e-01],\n",
       "       [ 2.86824542e-01,  1.35820278e+00],\n",
       "       [-4.82648842e-01, -1.61742401e+00],\n",
       "       [ 6.43451233e-01, -1.93875772e-01],\n",
       "       [ 6.55564794e-01,  1.50407865e+00],\n",
       "       [-1.67158107e+00,  1.81335425e+00],\n",
       "       [-5.16515333e-01, -1.60409971e+00],\n",
       "       [ 9.07198593e-01,  1.68522912e+00],\n",
       "       [ 5.05137606e-01,  1.21482452e+00],\n",
       "       [ 4.54418397e-01, -5.80423162e-01],\n",
       "       [ 2.13583305e+00,  1.44547418e+00],\n",
       "       [ 2.09298804e-01, -6.59806517e-01],\n",
       "       [-4.22388577e-01, -9.89101812e-01],\n",
       "       [ 8.25989630e-01, -8.06363008e-02],\n",
       "       [ 2.24882308e+00,  2.89535923e+00],\n",
       "       [ 7.09194633e-01, -1.04631626e+00],\n",
       "       [-3.79633650e-01, -5.98843502e-01],\n",
       "       [-1.16426563e+00,  1.35787172e-01],\n",
       "       [-2.19812733e+00,  1.55881717e+00],\n",
       "       [ 2.21573553e-01, -1.33698567e+00],\n",
       "       [ 4.50533314e+00, -2.39881471e-01],\n",
       "       [-3.06617817e-01, -1.52040839e+00],\n",
       "       [ 5.57913547e-01, -3.83415560e-01],\n",
       "       [-4.36814462e-01,  2.67072272e+00],\n",
       "       [-5.82303296e-01,  7.69797531e-01],\n",
       "       [ 1.08811061e+00, -4.07241216e-01],\n",
       "       [-4.93622140e-01, -6.34097088e-01],\n",
       "       [ 3.20763375e-02,  6.83990518e-01],\n",
       "       [-1.44135181e+00,  9.14592147e-01],\n",
       "       [ 1.26401780e+00,  1.11985443e+00],\n",
       "       [-5.23590218e-01, -7.82917135e-01],\n",
       "       [ 6.81207999e-01,  4.34329663e-02],\n",
       "       [ 7.16376217e-01,  2.83337712e-01],\n",
       "       [-1.25670482e-01, -1.47774782e+00],\n",
       "       [ 1.61704049e+00,  4.97936221e-01],\n",
       "       [-6.35277537e-01,  6.03135687e-01],\n",
       "       [ 2.93912834e+00,  4.61958978e-01],\n",
       "       [-9.43116956e-01,  4.26540656e-01],\n",
       "       [-8.64447718e-01,  5.84675310e-01],\n",
       "       [-1.18923741e-01,  1.32761200e+00],\n",
       "       [ 9.29990220e-01, -3.65357763e-01],\n",
       "       [ 4.49923006e-01, -6.78065197e-01],\n",
       "       [-2.07421127e+00,  9.04165446e-01],\n",
       "       [ 5.12515927e-01, -2.29164780e-01],\n",
       "       [ 2.80878982e-01, -1.29174503e+00],\n",
       "       [ 2.67650989e-01, -1.41330792e+00],\n",
       "       [-1.81226324e+00, -4.64279461e-01],\n",
       "       [ 2.97642962e-01,  3.41238807e-01],\n",
       "       [-1.43194843e+00,  1.62448242e+00],\n",
       "       [-1.39162190e+00,  3.93605968e-01],\n",
       "       [ 3.21915463e-01, -1.36095668e+00],\n",
       "       [ 9.00824467e-01, -1.45291214e+00],\n",
       "       [ 1.14162527e+00, -3.48068349e-01],\n",
       "       [ 2.87698884e-01, -6.47096326e-01],\n",
       "       [ 2.51523147e+00, -1.07360498e+00],\n",
       "       [-1.05283840e+00,  4.89197327e-01],\n",
       "       [-6.97147114e-01,  6.45622830e-01],\n",
       "       [-1.78617539e+00, -1.03158107e-01],\n",
       "       [-4.47241840e-01,  2.50123071e+00],\n",
       "       [-2.38946125e+00,  1.13257324e+00],\n",
       "       [ 2.44683851e-01, -9.30610649e-01],\n",
       "       [-8.46266712e-01,  8.31468144e-01],\n",
       "       [-2.34629990e+00,  1.59659440e+00],\n",
       "       [-1.59280000e+00, -1.77281341e+00],\n",
       "       [ 2.75436862e+00,  1.65579680e+00],\n",
       "       [-3.38348926e-01, -2.45847548e+00],\n",
       "       [-2.05219409e-01, -1.27347853e+00],\n",
       "       [-1.43100382e+00, -2.48520381e-01],\n",
       "       [ 5.22954835e-01, -1.99515536e-01],\n",
       "       [-6.07175280e-01,  9.65444075e-01],\n",
       "       [ 2.79493567e+00,  3.36544051e+00],\n",
       "       [ 9.33424100e+00,  5.44457347e+00],\n",
       "       [ 4.80258420e-01, -1.78930131e-01],\n",
       "       [-1.65400684e+00,  6.43192113e-01],\n",
       "       [ 1.15946390e+00, -9.32911195e-03],\n",
       "       [-1.87094353e+00,  9.93296685e-01],\n",
       "       [ 1.62491196e+00, -1.66496646e+00],\n",
       "       [ 1.41960096e+00,  2.23488049e-01],\n",
       "       [-1.97030125e-01, -2.42594260e+00],\n",
       "       [ 1.10872633e+00,  2.17298204e+00],\n",
       "       [-1.02612766e+00,  3.92182264e-01],\n",
       "       [-6.86190765e-01,  4.53244171e-01],\n",
       "       [-3.23214211e-02, -1.89423883e+00],\n",
       "       [ 3.06195602e-02,  1.20513966e+00],\n",
       "       [-3.19992762e-01,  1.19342046e+00],\n",
       "       [ 1.86442420e+00, -5.21211834e-01],\n",
       "       [ 8.96676261e-01, -1.41324120e+00],\n",
       "       [-1.84119280e-01,  1.03846096e+00],\n",
       "       [-1.91121530e+00,  1.42982420e+00],\n",
       "       [ 1.01817320e+00, -1.81162016e+00],\n",
       "       [ 1.46242937e-01, -1.76570779e-01],\n",
       "       [-4.47845576e-01, -1.62990091e+00],\n",
       "       [-5.20414746e-01, -8.04533924e-01],\n",
       "       [-1.18416526e-01,  8.18113006e-02],\n",
       "       [-1.56074232e+00,  1.80512106e+00],\n",
       "       [-2.34216658e-01,  3.53309623e-01],\n",
       "       [-7.97547678e-02,  1.45098632e+00],\n",
       "       [-8.25133401e-02, -1.14044873e+00],\n",
       "       [-1.08538638e-01, -1.15317294e+00],\n",
       "       [-1.15269602e+00,  1.45790267e-01],\n",
       "       [ 3.40563430e-01, -6.28509822e-01],\n",
       "       [ 1.01171732e-01, -5.41284734e-01],\n",
       "       [ 9.58504960e-02,  1.21359153e+00],\n",
       "       [-4.29459526e-01, -1.23734877e+00],\n",
       "       [ 1.38242300e-01, -3.96590289e-01],\n",
       "       [-1.65298720e+00,  1.80273117e+00],\n",
       "       [-9.69272173e-01,  4.08485298e-01],\n",
       "       [-2.13031624e+00,  1.34061291e+00],\n",
       "       [ 1.00999990e+00, -1.32428157e-02],\n",
       "       [ 1.78867909e+00, -1.12740032e+00],\n",
       "       [-3.43457395e-01, -5.39250186e-01],\n",
       "       [-1.99363968e+00, -1.58622829e+00],\n",
       "       [-2.63963305e-01, -5.76994888e-01],\n",
       "       [-1.10030818e+00,  3.22338353e-01],\n",
       "       [ 6.84611339e-01, -6.92925512e-01],\n",
       "       [ 1.06821224e+00,  1.25718571e-01],\n",
       "       [ 3.47699771e-01,  2.96909503e-02],\n",
       "       [ 1.21410844e+00,  9.16621221e-01],\n",
       "       [-1.45415392e+00,  5.96204169e-02],\n",
       "       [ 1.50967215e+00, -2.82023565e+00],\n",
       "       [-1.91487656e+00,  1.72232360e+00],\n",
       "       [ 1.41416936e+00, -1.23948844e+00],\n",
       "       [-2.72404255e-01, -1.25541321e+00],\n",
       "       [ 6.69367438e-01, -1.34328145e-01],\n",
       "       [ 1.43880636e-01, -9.84969260e-01],\n",
       "       [ 4.92986058e-01, -5.45225415e-01],\n",
       "       [ 1.33470905e+00, -6.98821581e-01],\n",
       "       [ 2.26553134e-01, -1.79681726e+00],\n",
       "       [-8.50387687e-01,  4.72430600e-01],\n",
       "       [-7.42661417e-02, -8.59075395e-01],\n",
       "       [-9.76752453e-01,  1.05329520e+00],\n",
       "       [ 2.13145371e-01, -2.30428587e+00],\n",
       "       [-6.44666688e-01,  9.84352190e-01],\n",
       "       [-1.86820923e+00,  1.75704160e+00],\n",
       "       [ 3.19829607e+00,  3.27894621e-01],\n",
       "       [-2.69067147e-01, -8.25006122e-01],\n",
       "       [ 2.47422562e+00,  1.00578131e+00],\n",
       "       [-9.14322148e-01, -1.30235726e+00],\n",
       "       [ 4.31896666e+00,  4.12097680e+00],\n",
       "       [-6.54811726e-01, -1.05357157e+00],\n",
       "       [-1.77906908e-01, -6.94652569e-01],\n",
       "       [-2.33715150e-01,  2.66598460e-01],\n",
       "       [-1.05670038e+00,  4.90017250e-01],\n",
       "       [ 1.30709955e+00, -3.61453030e-01],\n",
       "       [-4.10953956e-02, -3.27905117e-01],\n",
       "       [ 1.53058299e+00, -1.34720470e+00],\n",
       "       [ 2.45738526e+00,  2.59933606e+00],\n",
       "       [ 1.28667895e+00, -2.90688757e-01],\n",
       "       [-1.45947726e+00, -2.34131053e-01],\n",
       "       [ 2.86073689e-01,  1.18175569e+00],\n",
       "       [ 6.68304941e-01,  3.12688249e-01],\n",
       "       [-1.54230554e+00, -4.73504436e-02],\n",
       "       [ 2.07686444e+00,  1.27978486e+00],\n",
       "       [-6.36536065e-01, -9.08998977e-01],\n",
       "       [-1.94650481e-01, -5.80610755e-01],\n",
       "       [-3.75973998e-01,  5.91770627e-01],\n",
       "       [-4.99462327e-01,  9.79539028e-01],\n",
       "       [-1.12943529e+00,  5.69712151e-01],\n",
       "       [-2.45409068e+00,  1.20592433e+00],\n",
       "       [-1.27722362e+00,  1.02324205e+00],\n",
       "       [-1.69969441e+00,  4.39966533e-01],\n",
       "       [ 3.30872757e+00,  1.37700065e+00],\n",
       "       [-1.95879339e+00, -1.46182128e+00],\n",
       "       [-1.17432423e+00,  7.51619123e-01],\n",
       "       [-1.20942091e-01, -1.62202235e+00],\n",
       "       [-3.00320651e-01, -2.51013680e-01],\n",
       "       [ 8.11753749e-01, -1.61196624e+00],\n",
       "       [-2.33393943e-03, -6.33156657e-01],\n",
       "       [-1.32902844e+00,  2.62119660e-01],\n",
       "       [ 1.65428760e+00, -1.79389712e-01],\n",
       "       [ 7.71752675e-01, -1.65948250e+00],\n",
       "       [-4.33952587e-01,  1.23442541e+00],\n",
       "       [ 1.37765517e+00, -1.09494768e+00],\n",
       "       [ 4.14339427e+00,  1.30126719e+00],\n",
       "       [-1.08111990e-01, -1.82449753e+00],\n",
       "       [ 1.72246533e-03, -2.22060482e+00],\n",
       "       [ 1.34127476e-01, -1.08046392e+00],\n",
       "       [ 5.89628056e-01,  1.72802599e+00],\n",
       "       [ 5.05659530e-01, -1.41346451e-01],\n",
       "       [-1.62553074e+00,  7.31665350e-02],\n",
       "       [-9.96182898e-01,  3.09944603e-01],\n",
       "       [ 2.84198681e-01, -2.64022891e+00],\n",
       "       [ 3.36716587e-01, -8.56417095e-01],\n",
       "       [-6.64728409e-01, -1.02562651e+00],\n",
       "       [ 8.68709672e-01, -1.52900750e-01],\n",
       "       [ 1.07560621e+00,  6.01796427e-01],\n",
       "       [ 4.99940017e-01, -2.19641764e+00],\n",
       "       [ 1.20815560e+00, -3.21310782e-02],\n",
       "       [-2.99979765e-01, -9.58492859e-01],\n",
       "       [-7.89405907e-01, -1.48885621e+00],\n",
       "       [ 1.58773148e-01, -2.97100189e-01],\n",
       "       [-7.90839246e-02,  1.65113075e+00],\n",
       "       [-7.79986916e-01, -1.40396703e+00],\n",
       "       [-1.46596532e+00,  4.92603300e-02],\n",
       "       [-5.72962675e-02, -3.42259691e-01],\n",
       "       [ 1.42868483e+00, -1.11319560e+00],\n",
       "       [-2.22727362e+00,  1.08637186e+00],\n",
       "       [-2.96532039e-01, -9.30469087e-01],\n",
       "       [-2.08515964e+00,  1.59782442e+00],\n",
       "       [-1.56671031e+00,  1.15794065e-01],\n",
       "       [-2.06903449e+00,  1.38400616e+00],\n",
       "       [-6.89573767e-01,  1.01346866e+00],\n",
       "       [-7.17191846e-01,  7.60804887e-01],\n",
       "       [ 3.67018047e-01,  1.33581989e-01],\n",
       "       [-1.35151529e+00,  1.15406041e-01],\n",
       "       [ 1.11701957e+00,  3.69148750e-01],\n",
       "       [-5.51165819e-01,  3.52918551e-01],\n",
       "       [-1.47173458e+00,  1.78229252e+00],\n",
       "       [ 1.80537320e+00, -9.98196205e-01]])"
      ]
     },
     "execution_count": 80,
     "metadata": {},
     "output_type": "execute_result"
    }
   ],
   "source": [
    "pca_2d"
   ]
  },
  {
   "cell_type": "code",
   "execution_count": 107,
   "metadata": {
    "scrolled": true
   },
   "outputs": [
    {
     "ename": "NameError",
     "evalue": "name 'c3' is not defined",
     "output_type": "error",
     "traceback": [
      "\u001b[1;31m---------------------------------------------------------------------------\u001b[0m",
      "\u001b[1;31mNameError\u001b[0m                                 Traceback (most recent call last)",
      "\u001b[1;32m<ipython-input-107-fb1fe6f9beb0>\u001b[0m in \u001b[0;36m<module>\u001b[1;34m\u001b[0m\n\u001b[0;32m      8\u001b[0m     \u001b[1;32melif\u001b[0m \u001b[0mX_train\u001b[0m\u001b[1;33m[\u001b[0m\u001b[0mi\u001b[0m\u001b[1;33m]\u001b[0m\u001b[1;33m.\u001b[0m\u001b[0mall\u001b[0m\u001b[1;33m(\u001b[0m\u001b[1;33m)\u001b[0m \u001b[1;33m==\u001b[0m \u001b[1;36m1\u001b[0m\u001b[1;33m:\u001b[0m\u001b[1;33m\u001b[0m\u001b[1;33m\u001b[0m\u001b[0m\n\u001b[0;32m      9\u001b[0m         \u001b[0mc3\u001b[0m \u001b[1;33m=\u001b[0m \u001b[0mpl\u001b[0m\u001b[1;33m.\u001b[0m\u001b[0mscatter\u001b[0m\u001b[1;33m(\u001b[0m\u001b[0mpca_2d\u001b[0m\u001b[1;33m[\u001b[0m\u001b[0mi\u001b[0m\u001b[1;33m,\u001b[0m\u001b[1;36m0\u001b[0m\u001b[1;33m]\u001b[0m\u001b[1;33m,\u001b[0m\u001b[0mpca_2d\u001b[0m\u001b[1;33m[\u001b[0m\u001b[0mi\u001b[0m\u001b[1;33m,\u001b[0m\u001b[1;36m1\u001b[0m\u001b[1;33m]\u001b[0m\u001b[1;33m,\u001b[0m\u001b[0mc\u001b[0m\u001b[1;33m=\u001b[0m\u001b[1;34m'b'\u001b[0m\u001b[1;33m,\u001b[0m    \u001b[0mmarker\u001b[0m\u001b[1;33m=\u001b[0m\u001b[1;34m'*'\u001b[0m\u001b[1;33m)\u001b[0m\u001b[1;33m\u001b[0m\u001b[1;33m\u001b[0m\u001b[0m\n\u001b[1;32m---> 10\u001b[1;33m \u001b[0mpl\u001b[0m\u001b[1;33m.\u001b[0m\u001b[0mlegend\u001b[0m\u001b[1;33m(\u001b[0m\u001b[1;33m[\u001b[0m\u001b[0mc1\u001b[0m\u001b[1;33m,\u001b[0m \u001b[0mc2\u001b[0m\u001b[1;33m,\u001b[0m \u001b[0mc3\u001b[0m\u001b[1;33m]\u001b[0m\u001b[1;33m,\u001b[0m \u001b[1;33m[\u001b[0m\u001b[1;34m'Married'\u001b[0m\u001b[1;33m,\u001b[0m \u001b[1;34m'Dependents'\u001b[0m\u001b[1;33m,\u001b[0m\u001b[1;34m\"Education\"\u001b[0m\u001b[1;33m]\u001b[0m\u001b[1;33m)\u001b[0m\u001b[1;33m\u001b[0m\u001b[1;33m\u001b[0m\u001b[0m\n\u001b[0m\u001b[0;32m     11\u001b[0m \u001b[0mpl\u001b[0m\u001b[1;33m.\u001b[0m\u001b[0mtitle\u001b[0m\u001b[1;33m(\u001b[0m\u001b[1;34m'Loan_Eligibility'\u001b[0m\u001b[1;33m)\u001b[0m\u001b[1;33m\u001b[0m\u001b[1;33m\u001b[0m\u001b[0m\n\u001b[0;32m     12\u001b[0m \u001b[0mpl\u001b[0m\u001b[1;33m.\u001b[0m\u001b[0mshow\u001b[0m\u001b[1;33m(\u001b[0m\u001b[1;33m)\u001b[0m\u001b[1;33m\u001b[0m\u001b[1;33m\u001b[0m\u001b[0m\n",
      "\u001b[1;31mNameError\u001b[0m: name 'c3' is not defined"
     ]
    },
    {
     "data": {
      "image/png": "[encoded data removed]",
      "text/plain": [
       "<Figure size 432x288 with 1 Axes>"
      ]
     },
     "metadata": {
      "needs_background": "light"
     },
     "output_type": "display_data"
    }
   ],
   "source": [
    "'''import pylab as pl\n",
    "for i in range(0, pca_2d.shape[0]):\n",
    "    \n",
    "    if X_train[i].all() <= 10:\n",
    "        c1 = pl.scatter(pca_2d[i,0],pca_2d[i,1],c='r',    marker='+')\n",
    "    elif X_train[i].all() == 0:\n",
    "        c2 = pl.scatter(pca_2d[i,0],pca_2d[i,1],c='g',    marker='o')\n",
    "    elif X_train[i].all() == 1:\n",
    "        c3 = pl.scatter(pca_2d[i,0],pca_2d[i,1],c='b',    marker='*')\n",
    "pl.legend([c1, c2, c3], ['Married', 'Dependents',\"Education\"])\n",
    "pl.title('Loan_Eligibility')\n",
    "pl.show()''''''"
   ]
  },
  {
   "cell_type": "code",
   "execution_count": 108,
   "metadata": {},
   "outputs": [
    {
     "data": {
      "image/png": "[encoded data removed]",
      "text/plain": [
       "<Figure size 432x288 with 1 Axes>"
      ]
     },
     "metadata": {
      "needs_background": "light"
     },
     "output_type": "display_data"
    }
   ],
   "source": [
    "'''import pylab as pl\n",
    "for i in range(0, pca_2d.shape[0]):\n",
    "    \n",
    "    if X_train[i].all() <= 10:\n",
    "        c1 = pl.scatter(pca_2d[i,0],pca_2d[i,1],c='r',    marker='+')\n",
    "    elif X_train[i].all() == 0:\n",
    "        c1 = pl.scatter(pca_2d[i,0],pca_2d[i,1],c='g',    marker='o')\n",
    "    elif X_train[i].all() == 1:\n",
    "        c1 = pl.scatter(pca_2d[i,0],pca_2d[i,1],c='b',    marker='*')\n",
    "pl.legend([c1], ['Married'])\n",
    "pl.title('Loan_Eligibility')\n",
    "pl.show()'''"
   ]
  },
  {
   "cell_type": "code",
   "execution_count": null,
   "metadata": {},
   "outputs": [],
   "source": []
  },
  {
   "cell_type": "code",
   "execution_count": null,
   "metadata": {},
   "outputs": [],
   "source": []
  }
 ],
 "metadata": {
  "kernelspec": {
   "display_name": "Python 3",
   "language": "python",
   "name": "python3"
  },
  "language_info": {
   "codemirror_mode": {
    "name": "ipython",
    "version": 3
   },
   "file_extension": ".py",
   "mimetype": "text/x-python",
   "name": "python",
   "nbconvert_exporter": "python",
   "pygments_lexer": "ipython3",
   "version": "3.7.6"
  }
 },
 "nbformat": 4,
 "nbformat_minor": 4
}
